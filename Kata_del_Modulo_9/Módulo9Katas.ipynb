{
 "cells": [
  {
   "cell_type": "markdown",
   "metadata": {},
   "source": [
    "## Ejercicio: Uso de funciones en Python\n",
    "Ejercicio 1: Trabajar con argumentos en funciones"
   ]
  },
  {
   "cell_type": "code",
   "execution_count": 15,
   "metadata": {},
   "outputs": [],
   "source": [
    "# Función para leer 3 tanques de combustible y muestre el promedio\n",
    "def combustible(tanque1, tanque2, tanque3):\n",
    "    total = (tanque1 + tanque2 + tanque3) / 3\n",
    "    return f\"\"\"Promedio = {total}%\n",
    "    Tanque1 = {tanque1}\n",
    "    Tanque2 = {tanque2}\n",
    "    Tanque3 = {tanque3}\"\"\""
   ]
  },
  {
   "cell_type": "code",
   "execution_count": 18,
   "metadata": {},
   "outputs": [
    {
     "name": "stdout",
     "output_type": "stream",
     "text": [
      "Promedio = 0.0%\n",
      "    Tanque1 = 0\n",
      "    Tanque2 = 0\n",
      "    Tanque3 = 0\n"
     ]
    }
   ],
   "source": [
    "# Llamamos a la función que genera el reporte print(funcion(tanque1, tanque2, tanque3))\n",
    "print(combustible(0,0,0))"
   ]
  },
  {
   "cell_type": "code",
   "execution_count": 83,
   "metadata": {},
   "outputs": [],
   "source": [
    "# Función promedio \n",
    "def promedio(values):\n",
    "    total = sum(values)\n",
    "    tamano = len(values)\n",
    "    return total / tamano"
   ]
  },
  {
   "cell_type": "code",
   "execution_count": 84,
   "metadata": {},
   "outputs": [
    {
     "data": {
      "text/plain": [
       "82.0"
      ]
     },
     "execution_count": 84,
     "metadata": {},
     "output_type": "execute_result"
    }
   ],
   "source": [
    "average([80, 85, 81]) "
   ]
  },
  {
   "cell_type": "code",
   "execution_count": 88,
   "metadata": {},
   "outputs": [],
   "source": [
    "# Actualiza la función\n",
    "def generate_report(tanque1, tanque2, tanque3):\n",
    "    return f\"\"\"Promedio: {promedio([tanque1, tanque2, tanque3])}%\n",
    "    Tanque 1: {tanque1}\n",
    "    Tanque 2: {tanque2}\n",
    "    Tanque 3: {tanque3}\"\"\""
   ]
  },
  {
   "cell_type": "code",
   "execution_count": 89,
   "metadata": {},
   "outputs": [
    {
     "name": "stdout",
     "output_type": "stream",
     "text": [
      "Promedio: 78.0%\n",
      "    Tanque 1: 88\n",
      "    Tanque 2: 76\n",
      "    Tanque 3: 70\n"
     ]
    }
   ],
   "source": [
    "print(generate_report(88, 76, 70))"
   ]
  },
  {
   "cell_type": "markdown",
   "metadata": {},
   "source": [
    "## Ejercicio 2: Trabajo con argumentos de palabra clave\n",
    "Ejercicio : Trabajar con argumentos de palabras clave en funciones"
   ]
  },
  {
   "cell_type": "code",
   "execution_count": 90,
   "metadata": {},
   "outputs": [],
   "source": [
    "# Función con un informe preciso de la misión. Considera hora de prelanzamiento, tiempo de vuelo, \n",
    "# destino, tanque externo y tanque interno\n",
    "def reporte(hora_prelan, tiempo_vuelo, destino, tanque_ex, tanque_in):\n",
    "    return f\"\"\"Reporte:\n",
    "    Hora de prelanzamiento = {hora_prelan} \n",
    "    Tiempo de Vuelo = {tiempo_vuelo}\n",
    "    Destino = {destino}\n",
    "    Cobustible restante = {tanque_ex + tanque_in}\n",
    "    \"\"\""
   ]
  },
  {
   "cell_type": "code",
   "execution_count": 91,
   "metadata": {},
   "outputs": [
    {
     "name": "stdout",
     "output_type": "stream",
     "text": [
      "Reporte:\n",
      "    Hora de prelanzamiento = 14 \n",
      "    Tiempo de Vuelo = 51\n",
      "    Destino = Moon\n",
      "    Cobustible restante = 50000\n",
      "    \n"
     ]
    }
   ],
   "source": [
    "print(reporte(14, 51, 'Luna', 20000, 30000))"
   ]
  },
  {
   "cell_type": "code",
   "execution_count": 92,
   "metadata": {},
   "outputs": [],
   "source": [
    "# Escribe tu nueva función de reporte considerando lo anterior\n",
    "def reporte(destino, *minutos, **combustible_r):\n",
    "    return f\"\"\"Destino = {destino}\n",
    "    Total de tiempo de vuelo = {sum(minutos)} minutos\n",
    "    Combustible restante = {sum(combustible_r.values())}\n",
    "    \"\"\""
   ]
  },
  {
   "cell_type": "code",
   "execution_count": 94,
   "metadata": {},
   "outputs": [
    {
     "name": "stdout",
     "output_type": "stream",
     "text": [
      "Destino = Luna\n",
      "    Total de tiempo de vuelo = 76 minutos\n",
      "    Combustible restante = 50000\n",
      "    \n"
     ]
    }
   ],
   "source": [
    "print(reporte('Luna', 10, 15, 51, principal = 30000, externo = 20000))"
   ]
  }
 ],
 "metadata": {
  "interpreter": {
   "hash": "d159973e4de2a3af59c6e1a448a9e7759aa53ba49c92be20f88d32970009a48a"
  },
  "kernelspec": {
   "display_name": "Python 3.8.5 32-bit",
   "language": "python",
   "name": "python3"
  },
  "language_info": {
   "codemirror_mode": {
    "name": "ipython",
    "version": 3
   },
   "file_extension": ".py",
   "mimetype": "text/x-python",
   "name": "python",
   "nbconvert_exporter": "python",
   "pygments_lexer": "ipython3",
   "version": "3.8.5"
  },
  "orig_nbformat": 4
 },
 "nbformat": 4,
 "nbformat_minor": 2
}
